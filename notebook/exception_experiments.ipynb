{
 "cells": [
  {
   "cell_type": "code",
   "execution_count": 12,
   "id": "095ef6c9",
   "metadata": {},
   "outputs": [
    {
     "name": "stdout",
     "output_type": "stream",
     "text": [
      "ok\n"
     ]
    }
   ],
   "source": [
    "print(\"ok\")"
   ]
  },
  {
   "cell_type": "code",
   "execution_count": 13,
   "id": "9a4cb70e",
   "metadata": {},
   "outputs": [],
   "source": [
    "import sys\n",
    "import traceback\n"
   ]
  },
  {
   "cell_type": "code",
   "execution_count": 14,
   "id": "5b652e90",
   "metadata": {},
   "outputs": [],
   "source": [
    "from logger.custom_logger import CustomLogger"
   ]
  },
  {
   "cell_type": "code",
   "execution_count": 15,
   "id": "df129d9f",
   "metadata": {},
   "outputs": [],
   "source": [
    "logger = CustomLogger().get_logger(\"Exception_experiment\")"
   ]
  },
  {
   "cell_type": "code",
   "execution_count": null,
   "id": "88239408",
   "metadata": {},
   "outputs": [
    {
     "ename": "DocumentPortalException",
     "evalue": "\n        Error in [C:\\Users\\vinay\\AppData\\Local\\Temp\\ipykernel_33548\\1375840985.py] at line [20]\n        Message: division by zero\n        Traceback:\n        Traceback (most recent call last):\n  File \"C:\\Users\\vinay\\AppData\\Local\\Temp\\ipykernel_33548\\1375840985.py\", line 20, in <module>\n    a = 1/0\nZeroDivisionError: division by zero\n\n        ",
     "output_type": "error",
     "traceback": [
      "\u001b[1;31m---------------------------------------------------------------------------\u001b[0m",
      "\u001b[1;31mZeroDivisionError\u001b[0m                         Traceback (most recent call last)",
      "Cell \u001b[1;32mIn[16], line 20\u001b[0m\n\u001b[0;32m     19\u001b[0m \u001b[38;5;28;01mtry\u001b[39;00m:\n\u001b[1;32m---> 20\u001b[0m     a \u001b[38;5;241m=\u001b[39m \u001b[38;5;241;43m1\u001b[39;49m\u001b[38;5;241;43m/\u001b[39;49m\u001b[38;5;241;43m0\u001b[39;49m\n\u001b[0;32m     21\u001b[0m     \u001b[38;5;28mprint\u001b[39m(a)\n",
      "\u001b[1;31mZeroDivisionError\u001b[0m: division by zero",
      "\nDuring handling of the above exception, another exception occurred:\n",
      "\u001b[1;31mDocumentPortalException\u001b[0m                   Traceback (most recent call last)",
      "Cell \u001b[1;32mIn[16], line 28\u001b[0m\n\u001b[0;32m     26\u001b[0m app_exc \u001b[38;5;241m=\u001b[39m DocumentPortalException(e,sys)\n\u001b[0;32m     27\u001b[0m logger\u001b[38;5;241m.\u001b[39merror(app_exc)\n\u001b[1;32m---> 28\u001b[0m \u001b[38;5;28;01mraise\u001b[39;00m app_exc\n",
      "\u001b[1;31mDocumentPortalException\u001b[0m: \n        Error in [C:\\Users\\vinay\\AppData\\Local\\Temp\\ipykernel_33548\\1375840985.py] at line [20]\n        Message: division by zero\n        Traceback:\n        Traceback (most recent call last):\n  File \"C:\\Users\\vinay\\AppData\\Local\\Temp\\ipykernel_33548\\1375840985.py\", line 20, in <module>\n    a = 1/0\nZeroDivisionError: division by zero\n\n        "
     ]
    }
   ],
   "source": [
    "class DocumentPortalException(Exception):\n",
    "    \"\"\"Custom exception for document portal\"\"\"\n",
    "    def __init__(self,err_message, err_details:sys):\n",
    "        _,_,exc_tb = err_details.exc_info()\n",
    "        self.file_name = exc_tb.tb_frame.f_code.co_filename\n",
    "        self.line_no = exc_tb.tb_lineno\n",
    "        self.err_message = str(err_message)\n",
    "        self.traceback_str = ''.join(traceback.format_exception(*err_details.exc_info()))\n",
    "    \n",
    "    def __str__(self):\n",
    "        return f\"\"\"\n",
    "        Error in [{self.file_name}] at line [{self.line_no}]\n",
    "        Message: {self.err_message}\n",
    "        Traceback:\n",
    "        {self.traceback_str}\n",
    "        \"\"\"\n",
    "        \n",
    "if __name__ == \"__main__\":\n",
    "    try:\n",
    "        a = 1/0\n",
    "        print(a)\n",
    "    except Exception as e:\n",
    "        # exc_type, exc_value, exc_traceback = sys.exc_info()\n",
    "        # tb_str = ''.join(traceback.format_exception(exc_type,exc_value,exc_traceback))\n",
    "        # print(f\"An error occurred: {tb_str}\")\n",
    "        app_exc = DocumentPortalException(e,sys)\n",
    "        logger.error(app_exc)\n",
    "        raise app_exc"
   ]
  },
  {
   "cell_type": "code",
   "execution_count": null,
   "id": "c56e98fc",
   "metadata": {},
   "outputs": [],
   "source": []
  }
 ],
 "metadata": {
  "kernelspec": {
   "display_name": "venv",
   "language": "python",
   "name": "python3"
  },
  "language_info": {
   "codemirror_mode": {
    "name": "ipython",
    "version": 3
   },
   "file_extension": ".py",
   "mimetype": "text/x-python",
   "name": "python",
   "nbconvert_exporter": "python",
   "pygments_lexer": "ipython3",
   "version": "3.10.18"
  }
 },
 "nbformat": 4,
 "nbformat_minor": 5
}
